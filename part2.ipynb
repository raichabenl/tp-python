{
 "cells": [
  {
   "cell_type": "markdown",
   "metadata": {},
   "source": [
    "##  Exponentiation efficace\n"
   ]
  },
  {
   "cell_type": "markdown",
   "metadata": {},
   "source": [
    "\n",
    "      \n",
    "\n"
   ]
  },
  {
   "cell_type": "code",
   "execution_count": 6,
   "metadata": {},
   "outputs": [
    {
     "name": "stdout",
     "output_type": "stream",
     "text": [
      "Saiser une puissance pour votre nombre 10\n",
      "le nbre min  de multiplications pour calculer s^k est  4\n",
      "le résultat de la somme donnée est  1630\n"
     ]
    }
   ],
   "source": [
    "def prod(k):\n",
    "    def méthode1(s):\n",
    "        l=[];\n",
    "        l.append(1);\n",
    "        som=2;\n",
    "        while som < int(k):\n",
    "            l.append(som)\n",
    "            i=som;j=som;t=1;\n",
    "            while i + j>int(k):\n",
    "                j = l[-t];\n",
    "                t += 1;\n",
    "            som = i+j;\n",
    "        s=len(l)\n",
    "        return s\n",
    "    def méthode2(s):\n",
    "        l=[]; \n",
    "        l.append(1);\n",
    "        l.append(2);\n",
    "        som=3;\n",
    "        while som < int(k):\n",
    "            l.append(som)\n",
    "            i=som;j=som;t=1;\n",
    "            while i + j>int(k):\n",
    "                j = l[-t];\n",
    "                t += 1;\n",
    "            som = i+j;\n",
    "        h=len(l)\n",
    "        return h\n",
    "    h=méthode1(k);\n",
    "    s=méthode2(k);\n",
    "    if s>h:\n",
    "        nb_min=h\n",
    "    else:\n",
    "        nb_min=s\n",
    "    return nb_min\n",
    "\n",
    "k=input(\"Saiser une puissance pour votre nombre \")   \n",
    "print(\"le nbre min  de multiplications pour calculer s^k est \",prod(k))\n",
    "\n",
    "\n",
    "somme=0;\n",
    "for i in range(1,200):\n",
    "    somme += prod(i)\n",
    "print(\"le résultat de la somme donnée est \",somme)\n",
    "\n"
   ]
  },
  {
   "cell_type": "markdown",
   "metadata": {},
   "source": []
  }
 ],
 "metadata": {
  "kernelspec": {
   "display_name": "Python 3",
   "language": "python",
   "name": "python3"
  },
  "language_info": {
   "codemirror_mode": {
    "name": "ipython",
    "version": 3
   },
   "file_extension": ".py",
   "mimetype": "text/x-python",
   "name": "python",
   "nbconvert_exporter": "python",
   "pygments_lexer": "ipython3",
   "version": "3.5.2"
  }
 },
 "nbformat": 4,
 "nbformat_minor": 2
}
